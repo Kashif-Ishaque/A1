{
 "cells": [
  {
   "cell_type": "markdown",
   "id": "0b1b4dd1-c1dd-46eb-9f2f-98ca3f5effee",
   "metadata": {
    "deletable": false,
    "editable": false,
    "nbgrader": {
     "cell_type": "markdown",
     "checksum": "cd9da50fe800a18fd09eb734ba182733",
     "grade": false,
     "grade_id": "Title",
     "locked": true,
     "schema_version": 3,
     "solution": false,
     "task": false
    }
   },
   "source": [
    "# Assignment: NumPy Array Manipulation"
   ]
  },
  {
   "cell_type": "markdown",
   "id": "33cd1021-dda1-4bf3-b8a2-8e1c691ea6e1",
   "metadata": {
    "deletable": false,
    "editable": false,
    "nbgrader": {
     "cell_type": "markdown",
     "checksum": "06e5550ccbefa67f76b1bb25a79168d6",
     "grade": false,
     "grade_id": "Question-1",
     "locked": true,
     "schema_version": 3,
     "solution": false,
     "task": false
    }
   },
   "source": [
    "## Question 1 Array Attributes\n",
    "\n",
    "Write a function that creates a NumPy array containing random integers between 1 and 100 (inclusive) with a shape of (5, 5). The function should return the shape, size, data type, minimum value, and maximum value of the array. Ensure it handles empty arrays gracefully.\n",
    "\n",
    "Your function should return a dictionary with keys \"shape\", \"size\", \"dtype\", \"min\", and \"max\"."
   ]
  },
  {
   "cell_type": "code",
   "execution_count": null,
   "id": "583fae53-0e10-4652-ab80-e8741187910f",
   "metadata": {
    "deletable": false,
    "nbgrader": {
     "cell_type": "code",
     "checksum": "7d547a6ec3e30d037009e3557a8df7c4",
     "grade": false,
     "grade_id": "cell-1c720a86592c6760",
     "locked": false,
     "schema_version": 3,
     "solution": true,
     "task": false
    }
   },
   "outputs": [],
   "source": [
    "import numpy as np\n",
    "\n",
    "def array_attributes():\n",
    "    \"\"\"Create a NumPy array containing random integers between 1 and 100 (inclusive) \n",
    "    with a shape of (5, 5) and return its attributes: shape, size, dtype, min, and max.\n",
    "    \n",
    "    \"\"\"\n",
    "    # YOUR CODE HERE\n",
    "    raise NotImplementedError()"
   ]
  },
  {
   "cell_type": "code",
   "execution_count": null,
   "id": "4f70f738-90fd-4374-9313-a932d604fde2",
   "metadata": {
    "deletable": false,
    "editable": false,
    "nbgrader": {
     "cell_type": "code",
     "checksum": "1a74ac98ea5891ec0504f1b309fc428b",
     "grade": true,
     "grade_id": "cell-a3a372dbb3d5096d",
     "locked": true,
     "points": 2,
     "schema_version": 3,
     "solution": false,
     "task": false
    }
   },
   "outputs": [],
   "source": []
  },
  {
   "cell_type": "markdown",
   "id": "bb8466e2-6f83-4b6f-939d-af2616f03fea",
   "metadata": {
    "deletable": false,
    "editable": false,
    "nbgrader": {
     "cell_type": "markdown",
     "checksum": "b3b07c6b57c4a7aa9f1fcd42b03c8d61",
     "grade": false,
     "grade_id": "cell-353c3cef8b67eca1",
     "locked": true,
     "schema_version": 3,
     "solution": false,
     "task": false
    }
   },
   "source": [
    "## Question 2: Array Indexing\n",
    "Write a function that generates a 2D NumPy array of shape (6, 6) filled with random floats. The function should return the sum of elements located at even indices (both row and column) and the sum at odd indices (both row and column)."
   ]
  },
  {
   "cell_type": "code",
   "execution_count": null,
   "id": "b3fbd423-a9b8-48e5-a1ef-8a54b14867d5",
   "metadata": {
    "deletable": false,
    "nbgrader": {
     "cell_type": "code",
     "checksum": "f4a8338be3678729eb8034934e0f9fbc",
     "grade": false,
     "grade_id": "cell-6e693475d014a31a",
     "locked": false,
     "schema_version": 3,
     "solution": true,
     "task": false
    }
   },
   "outputs": [],
   "source": [
    "import numpy as np\n",
    "def sum_even_odd_indices():\n",
    "    \"\"\"Given a 2D NumPy array of shape (6, 6) filled with random floats, \n",
    "    return the sum of the elements at even indices and the sum at odd indices.\n",
    "    \n",
    "    \"\"\"\n",
    "    # YOUR CODE HERE\n",
    "    raise NotImplementedError()\n"
   ]
  },
  {
   "cell_type": "code",
   "execution_count": null,
   "id": "d87e6ed8-dc6d-40d7-9424-c4abd87930fd",
   "metadata": {
    "deletable": false,
    "editable": false,
    "nbgrader": {
     "cell_type": "code",
     "checksum": "a4ad94b4d7e47524f02968fd8dd5b4b5",
     "grade": true,
     "grade_id": "cell-029d7eb18036ab4a",
     "locked": true,
     "points": 2,
     "schema_version": 3,
     "solution": false,
     "task": false
    }
   },
   "outputs": [],
   "source": []
  },
  {
   "cell_type": "markdown",
   "id": "6b972f4a-cab3-4ab8-ab75-6986d2a8e68a",
   "metadata": {
    "deletable": false,
    "editable": false,
    "nbgrader": {
     "cell_type": "markdown",
     "checksum": "f1a0532a428eefa3904afc2c29cf0942",
     "grade": false,
     "grade_id": "cell-0dfb39d6d01eecd9",
     "locked": true,
     "schema_version": 3,
     "solution": false,
     "task": false
    }
   },
   "source": [
    "## Question 3: Array Slicing\n",
    "Write a function that creates a 4x4 identity matrix using NumPy and slices it to return the last two rows and the first two columns. Discuss the implications of slicing in terms of memory usage.\n",
    "\n",
    "Your function should return a 2x2 array."
   ]
  },
  {
   "cell_type": "code",
   "execution_count": null,
   "id": "67f7c7f2-7997-45c9-b7a8-6692281bd82b",
   "metadata": {
    "deletable": false,
    "nbgrader": {
     "cell_type": "code",
     "checksum": "4e37a5bd73dc55b5a3e7ac569c8e6d10",
     "grade": false,
     "grade_id": "cell-5d19023522ad5ca6",
     "locked": false,
     "schema_version": 3,
     "solution": true,
     "task": false
    }
   },
   "outputs": [],
   "source": [
    "import numpy as np\n",
    "def slice_identity_matrix():\n",
    "    \"\"\"Create a 3x3 identity matrix and return the bottom right 2x2 section.\n",
    "    \n",
    "    \"\"\"\n",
    "    # YOUR CODE HERE\n",
    "    raise NotImplementedError()\n"
   ]
  },
  {
   "cell_type": "code",
   "execution_count": null,
   "id": "5ff5dfb5-7edf-4c3a-aca9-2ae5cf2e471a",
   "metadata": {
    "deletable": false,
    "editable": false,
    "nbgrader": {
     "cell_type": "code",
     "checksum": "d42d9f354e9f0dba91bb37c6ec81452b",
     "grade": true,
     "grade_id": "cell-b88e9b0e616d0096",
     "locked": true,
     "points": 2,
     "schema_version": 3,
     "solution": false,
     "task": false
    }
   },
   "outputs": [],
   "source": []
  },
  {
   "cell_type": "markdown",
   "id": "e1c555f0-e885-463a-b4ee-5157e5883f40",
   "metadata": {
    "deletable": false,
    "editable": false,
    "nbgrader": {
     "cell_type": "markdown",
     "checksum": "64692db92d2d94fd7412a501fba1a2e1",
     "grade": false,
     "grade_id": "cell-1040d905d9068f10",
     "locked": true,
     "schema_version": 3,
     "solution": false,
     "task": false
    }
   },
   "source": [
    "## Question 4: Multidimensional Subarrays\n",
    "Write a function that creates a 3D NumPy array with shape (3, 4, 5) filled with random integers from 1 to 50. Extract all elements from the second layer (index 1) of the array, then compute and return the mean and standard deviation of these elements. Discuss the implications of incompatible reshaping."
   ]
  },
  {
   "cell_type": "code",
   "execution_count": null,
   "id": "8cd349d5-142c-4030-9f55-dc0917df5c52",
   "metadata": {
    "deletable": false,
    "nbgrader": {
     "cell_type": "code",
     "checksum": "3dfe7f7cc37d836970e6c87195379bfd",
     "grade": false,
     "grade_id": "cell-7072bdba2ac7e5ba",
     "locked": false,
     "schema_version": 3,
     "solution": true,
     "task": false
    }
   },
   "outputs": [],
   "source": [
    "def mean_std_second_layer():\n",
    "    \"\"\"Create a 3D NumPy array with shape (3, 4, 5) filled with random integers \n",
    "    and return the mean and standard deviation of the second layer (index 1).\n",
    "    \n",
    "    \"\"\"\n",
    "    # YOUR CODE HERE\n",
    "    raise NotImplementedError()\n"
   ]
  },
  {
   "cell_type": "code",
   "execution_count": null,
   "id": "7ff910f3-29b5-4203-88d3-3b91197b26c6",
   "metadata": {
    "deletable": false,
    "editable": false,
    "nbgrader": {
     "cell_type": "code",
     "checksum": "7d4cdfd8bf5d51e0099a6c818fe7dee3",
     "grade": true,
     "grade_id": "cell-0b52564656b9583a",
     "locked": true,
     "points": 2,
     "schema_version": 3,
     "solution": false,
     "task": false
    }
   },
   "outputs": [],
   "source": []
  },
  {
   "cell_type": "markdown",
   "id": "7de02afa-bfd5-4d9d-9235-f9ddfab38fbb",
   "metadata": {
    "deletable": false,
    "editable": false,
    "nbgrader": {
     "cell_type": "markdown",
     "checksum": "64d0bbaca31ade58752e9fc0a0e1b354",
     "grade": false,
     "grade_id": "cell-122db300dd57d9a1",
     "locked": true,
     "schema_version": 3,
     "solution": false,
     "task": false
    }
   },
   "source": [
    "## Question 5: No-Copy Views\n",
    "Create a 1D NumPy array of size 10 with values ranging from 10 to 100. Using slicing, create a subarray that contains the first five elements and modify the first element of the subarray. Show how this change affects the original array and discuss the concept of \"views\" in NumPy."
   ]
  },
  {
   "cell_type": "code",
   "execution_count": null,
   "id": "5953625b-6326-401e-8b22-99afff5ec681",
   "metadata": {
    "deletable": false,
    "nbgrader": {
     "cell_type": "code",
     "checksum": "547d77851b8366f8fc53ca7074d47825",
     "grade": false,
     "grade_id": "cell-1291e66ed0d6be68",
     "locked": false,
     "schema_version": 3,
     "solution": true,
     "task": false
    }
   },
   "outputs": [],
   "source": [
    "def modify_subarray():\n",
    "    \"\"\"Create a 1D NumPy array of size 10 with values ranging from 10 to 100. \n",
    "    Using slicing, create a subarray that contains the first five elements \n",
    "    and modify the first element of the subarray. Return both arrays.\n",
    "    \n",
    "    \"\"\"\n",
    "    # YOUR CODE HERE\n",
    "    raise NotImplementedError()\n"
   ]
  },
  {
   "cell_type": "code",
   "execution_count": null,
   "id": "9fd6f9b1-8738-4f21-9dac-00bea2741495",
   "metadata": {
    "deletable": false,
    "editable": false,
    "nbgrader": {
     "cell_type": "code",
     "checksum": "a7dd7c95318984b97784fc552ffae78a",
     "grade": true,
     "grade_id": "cell-f4398b33ae889ef2",
     "locked": true,
     "points": 2,
     "schema_version": 3,
     "solution": false,
     "task": false
    }
   },
   "outputs": [],
   "source": []
  },
  {
   "cell_type": "markdown",
   "id": "266e6b75-e3ad-45c7-8657-22823f57f572",
   "metadata": {
    "deletable": false,
    "editable": false,
    "nbgrader": {
     "cell_type": "markdown",
     "checksum": "69b6ed9157dc79cfa347648d03456618",
     "grade": false,
     "grade_id": "cell-eb1c66c332f9e65c",
     "locked": true,
     "schema_version": 3,
     "solution": false,
     "task": false
    }
   },
   "source": [
    "## Question 6: Creating Copies of Arrays\n",
    "Write a function that creates a 2D NumPy array of shape (5, 3) with random integers. Create a copy of this array and change all values greater than 50 in the copy to -1. Verify that the original array remains unchanged. Explain the copy operation in terms of memory management."
   ]
  },
  {
   "cell_type": "code",
   "execution_count": null,
   "id": "b4435e1a-a905-48fa-8ce4-d320718c5b45",
   "metadata": {
    "deletable": false,
    "nbgrader": {
     "cell_type": "code",
     "checksum": "7be48b3cf162807f10ee655092286c9d",
     "grade": false,
     "grade_id": "cell-6bfde4fefc683597",
     "locked": false,
     "schema_version": 3,
     "solution": true,
     "task": false
    }
   },
   "outputs": [],
   "source": [
    "import numpy as np\n",
    "\n",
    "def modify_copy():\n",
    "    \"\"\"Create a 2D NumPy array of shape (5, 3) with random integers \n",
    "    and create a copy to modify. Change all values greater than 50 in the copy to -1. \n",
    "    Verify that the original array remains unchanged.\n",
    "    \"\"\"\n",
    "    # YOUR CODE HERE\n",
    "    raise NotImplementedError()"
   ]
  },
  {
   "cell_type": "code",
   "execution_count": null,
   "id": "65d905da-5aa6-4709-9bc8-2f0c3705933b",
   "metadata": {
    "deletable": false,
    "editable": false,
    "nbgrader": {
     "cell_type": "code",
     "checksum": "cbf658e32eeb204de57b9b137ef306c6",
     "grade": true,
     "grade_id": "cell-8bcf141b62d9b98d",
     "locked": true,
     "points": 2,
     "schema_version": 3,
     "solution": false,
     "task": false
    }
   },
   "outputs": [],
   "source": []
  },
  {
   "cell_type": "markdown",
   "id": "bd10b7ef-8611-4994-83fd-fdcc0ae290a4",
   "metadata": {
    "deletable": false,
    "editable": false,
    "nbgrader": {
     "cell_type": "markdown",
     "checksum": "f3ab0c7ab0ec949f53ad029a992e32e9",
     "grade": false,
     "grade_id": "cell-ac474e511db8f3c7",
     "locked": true,
     "schema_version": 3,
     "solution": false,
     "task": false
    }
   },
   "source": [
    "## Question 7: Reshaping Arrays\n",
    "Write a function that creates a 1D NumPy array with 12 elements and reshapes this array into a 3D array of shape (2, 3, 2). Explain the error that occurs if a different shape that does not maintain the total number of elements is attempted."
   ]
  },
  {
   "cell_type": "code",
   "execution_count": null,
   "id": "d3c1e050-4fd0-47f0-97fa-e449565ab1a1",
   "metadata": {
    "deletable": false,
    "nbgrader": {
     "cell_type": "code",
     "checksum": "66cea49542d21f6eb86825ade45b09d0",
     "grade": false,
     "grade_id": "cell-eaa275f5d4db2650",
     "locked": false,
     "schema_version": 3,
     "solution": true,
     "task": false
    }
   },
   "outputs": [],
   "source": [
    "def reshape_array():\n",
    "    \"\"\"Create a 1D NumPy array with 12 elements and reshape it into a 3D array of shape (2, 3, 2).\n",
    "    \n",
    "    \"\"\"\n",
    "    # YOUR CODE HERE\n",
    "    raise NotImplementedError()"
   ]
  },
  {
   "cell_type": "code",
   "execution_count": null,
   "id": "af0eac38-6ffe-4a3c-9da8-ed3904c7957e",
   "metadata": {
    "deletable": false,
    "editable": false,
    "nbgrader": {
     "cell_type": "code",
     "checksum": "95e960e7467d5d997aec10da49e9cba1",
     "grade": true,
     "grade_id": "cell-67d61004c0ea0700",
     "locked": true,
     "points": 2,
     "schema_version": 3,
     "solution": false,
     "task": false
    }
   },
   "outputs": [],
   "source": []
  },
  {
   "cell_type": "markdown",
   "id": "f7ebf782-63ae-4ad6-aa9c-eb5618fe5e12",
   "metadata": {
    "deletable": false,
    "editable": false,
    "nbgrader": {
     "cell_type": "markdown",
     "checksum": "6ae7ac76d313f2a67a48b8445d4a5e87",
     "grade": false,
     "grade_id": "cell-275d4fed8cbca82e",
     "locked": true,
     "schema_version": 3,
     "solution": false,
     "task": false
    }
   },
   "source": [
    "## Question 8: Array Concatenation\n",
    "Write a function that creates two 1D NumPy arrays of shape (4,) filled with random integers from 1 to 20. Concatenate these arrays into a single array only if the maximum value of the first array is less than the minimum value of the second array; otherwise, return None. Discuss the importance of checking conditions before concatenating."
   ]
  },
  {
   "cell_type": "code",
   "execution_count": null,
   "id": "8cd981e5-1a73-4552-9a4c-1329b7f9238d",
   "metadata": {
    "deletable": false,
    "nbgrader": {
     "cell_type": "code",
     "checksum": "4de6053d0408eb3de2eca5106ac49ca1",
     "grade": false,
     "grade_id": "cell-743b55908dcbf609",
     "locked": false,
     "schema_version": 3,
     "solution": true,
     "task": false
    }
   },
   "outputs": [],
   "source": [
    "def concatenate_arrays():\n",
    "    \"\"\"Create two 1D NumPy arrays of shape (4,) with random integers between 1 and 20. \n",
    "    Concatenate these arrays into a single array if the maximum value of the first array \n",
    "    is less than the minimum value of the second array; otherwise, return None.\n",
    "    \n",
    "    \"\"\"\n",
    "    # YOUR CODE HERE\n",
    "    raise NotImplementedError()"
   ]
  },
  {
   "cell_type": "code",
   "execution_count": null,
   "id": "5eab266a-aded-4131-bcce-79428892452d",
   "metadata": {
    "deletable": false,
    "editable": false,
    "nbgrader": {
     "cell_type": "code",
     "checksum": "26d92baaa087c12ac62e205c48a0cf4b",
     "grade": true,
     "grade_id": "cell-b4a8c21657650942",
     "locked": true,
     "points": 2,
     "schema_version": 3,
     "solution": false,
     "task": false
    }
   },
   "outputs": [],
   "source": []
  },
  {
   "cell_type": "markdown",
   "id": "671af0b1-6a1b-4c56-ab7b-b7945a759f83",
   "metadata": {
    "deletable": false,
    "editable": false,
    "nbgrader": {
     "cell_type": "markdown",
     "checksum": "599eae3b0949b3281b482ca40f599f58",
     "grade": false,
     "grade_id": "cell-2e862389d056236c",
     "locked": true,
     "schema_version": 3,
     "solution": false,
     "task": false
    }
   },
   "source": [
    "## Question 9: Boolean Indexing\n",
    "Write a function that creates a NumPy array of shape (5, 5) filled with random integers from 1 to 20. Use boolean indexing to return a new array containing only the elements greater than 10. Discuss how boolean indexing can help filter data effectively."
   ]
  },
  {
   "cell_type": "code",
   "execution_count": null,
   "id": "7ca3547b-ddd5-4cf4-99dc-020da48682b1",
   "metadata": {
    "deletable": false,
    "nbgrader": {
     "cell_type": "code",
     "checksum": "9d1c13d64e82c8019274a9fcb7617a72",
     "grade": false,
     "grade_id": "cell-319a86c96434e435",
     "locked": false,
     "schema_version": 3,
     "solution": true,
     "task": false
    }
   },
   "outputs": [],
   "source": [
    "def filter_greater_than_ten():\n",
    "    \"\"\"Create a NumPy array of shape (5, 5) filled with random integers from 1 to 20. \n",
    "    Return a new array that contains only the elements greater than 10.\n",
    "    \n",
    "    \"\"\"\n",
    "    # YOUR CODE HERE\n",
    "    raise NotImplementedError()"
   ]
  },
  {
   "cell_type": "code",
   "execution_count": null,
   "id": "e2e997ad-e67b-4038-8e40-1fb6e3b61edc",
   "metadata": {
    "deletable": false,
    "editable": false,
    "nbgrader": {
     "cell_type": "code",
     "checksum": "b53f85171808b60bdeaed8f36e0db782",
     "grade": true,
     "grade_id": "cell-0947c0e7af0743bd",
     "locked": true,
     "points": 2,
     "schema_version": 3,
     "solution": false,
     "task": false
    }
   },
   "outputs": [],
   "source": []
  },
  {
   "cell_type": "markdown",
   "id": "594a65d6-4414-4c76-ac47-d1bf1f06f1b8",
   "metadata": {
    "deletable": false,
    "editable": false,
    "nbgrader": {
     "cell_type": "markdown",
     "checksum": "272739281a2e1742557b471132ff8a85",
     "grade": false,
     "grade_id": "cell-c78f4ac95c52028e",
     "locked": true,
     "schema_version": 3,
     "solution": false,
     "task": false
    }
   },
   "source": [
    "## Question 10: Aggregation Functions\n",
    "Write a function that creates a NumPy array of shape (4, 5) filled with random floats. Return the sum, mean, and standard deviation of the entire array. Discuss the use of aggregation functions in data analysis."
   ]
  },
  {
   "cell_type": "code",
   "execution_count": null,
   "id": "c51501eb-f3ac-4dd9-839c-bc74f1eabc8c",
   "metadata": {
    "deletable": false,
    "nbgrader": {
     "cell_type": "code",
     "checksum": "b18f55474748b40a5b8e57309cc1c430",
     "grade": false,
     "grade_id": "cell-a5e88d87158d184b",
     "locked": false,
     "schema_version": 3,
     "solution": true,
     "task": false
    }
   },
   "outputs": [],
   "source": [
    "def aggregate_array():\n",
    "    \"\"\"Create a NumPy array of shape (4, 5) filled with random floats. \n",
    "    Return the sum, mean, and standard deviation of the entire array.\n",
    "    \n",
    "    \"\"\"\n",
    "    # YOUR CODE HERE\n",
    "    raise NotImplementedError()\n"
   ]
  },
  {
   "cell_type": "code",
   "execution_count": null,
   "id": "703de203-1e13-46ad-84b9-91ca8c79e144",
   "metadata": {
    "deletable": false,
    "editable": false,
    "nbgrader": {
     "cell_type": "code",
     "checksum": "5d2feee4bba11c1a9794832bce4a67a4",
     "grade": true,
     "grade_id": "cell-41e0ad7d967aef41",
     "locked": true,
     "points": 2,
     "schema_version": 3,
     "solution": false,
     "task": false
    }
   },
   "outputs": [],
   "source": []
  }
 ],
 "metadata": {
  "kernelspec": {
   "display_name": "Python 3 (ipykernel)",
   "language": "python",
   "name": "python3"
  },
  "language_info": {
   "codemirror_mode": {
    "name": "ipython",
    "version": 3
   },
   "file_extension": ".py",
   "mimetype": "text/x-python",
   "name": "python",
   "nbconvert_exporter": "python",
   "pygments_lexer": "ipython3",
   "version": "3.12.6"
  }
 },
 "nbformat": 4,
 "nbformat_minor": 5
}
